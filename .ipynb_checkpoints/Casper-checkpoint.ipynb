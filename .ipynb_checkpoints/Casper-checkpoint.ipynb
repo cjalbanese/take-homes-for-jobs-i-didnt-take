{
 "cells": [
  {
   "cell_type": "markdown",
   "metadata": {},
   "source": [
    "# Instructions\n",
    "\n",
    "Using the attached file of aggregated orders & returns data please:\n",
    "\n",
    "- **Exercise 1**: Crunch the data and tell us whether our return rate is trending up or down. Additional insights are welcome, but not required\n",
    "\n",
    "- **Exercise 2**: Write the SQL code to produce number of completed orders by date (name of source data table is ‘casper_orders’)\n",
    " \n",
    "\n",
    "Here are a few important points:\n",
    "\n",
    "- We measure our metrics by month, so please provide the answer at a month (as opposed to week or day) level (e.g., return rate increased in September but decreased in October)\n",
    "- The data covers order placed in the period of August - December 2016\n",
    "- The data is current as of January 28, 2017\n",
    "- Once an order is returned, the order status will change from ‘complete’ to ‘returned’\n",
    "- Each order includes only 1 item\n",
    " \n",
    "\n",
    "This exercise should take no more than 2 hours"
   ]
  },
  {
   "cell_type": "markdown",
   "metadata": {},
   "source": [
    "# Exercise 1: Has the Return Rate increased?\n",
    "\n",
    "Allow me to clean-up/explore the data briefly"
   ]
  },
  {
   "cell_type": "code",
   "execution_count": 1,
   "metadata": {
    "collapsed": false
   },
   "outputs": [
    {
     "name": "stdout",
     "output_type": "stream",
     "text": [
      "Size of DF is 213\n",
      "\n",
      "dateordered     datetime64[ns]\n",
      "datereturned    datetime64[ns]\n",
      "orderstatus             object\n",
      "orders                   int64\n",
      "Unnamed: 4             float64\n",
      "Unnamed: 5             float64\n",
      "Unnamed: 6             float64\n",
      "Unnamed: 7             float64\n",
      "Unnamed: 8             float64\n",
      "Unnamed: 9             float64\n",
      "dtype: object\n"
     ]
    },
    {
     "data": {
      "text/html": [
       "<div>\n",
       "<table border=\"1\" class=\"dataframe\">\n",
       "  <thead>\n",
       "    <tr style=\"text-align: right;\">\n",
       "      <th></th>\n",
       "      <th>dateordered</th>\n",
       "      <th>datereturned</th>\n",
       "      <th>orderstatus</th>\n",
       "      <th>orders</th>\n",
       "      <th>Unnamed: 4</th>\n",
       "      <th>Unnamed: 5</th>\n",
       "      <th>Unnamed: 6</th>\n",
       "      <th>Unnamed: 7</th>\n",
       "      <th>Unnamed: 8</th>\n",
       "      <th>Unnamed: 9</th>\n",
       "    </tr>\n",
       "  </thead>\n",
       "  <tbody>\n",
       "    <tr>\n",
       "      <th>0</th>\n",
       "      <td>2016-12-31</td>\n",
       "      <td>2017-01-24</td>\n",
       "      <td>returned</td>\n",
       "      <td>1</td>\n",
       "      <td>NaN</td>\n",
       "      <td>NaN</td>\n",
       "      <td>NaN</td>\n",
       "      <td>NaN</td>\n",
       "      <td>NaN</td>\n",
       "      <td>NaN</td>\n",
       "    </tr>\n",
       "    <tr>\n",
       "      <th>1</th>\n",
       "      <td>2016-12-31</td>\n",
       "      <td>NaT</td>\n",
       "      <td>complete</td>\n",
       "      <td>8</td>\n",
       "      <td>NaN</td>\n",
       "      <td>NaN</td>\n",
       "      <td>NaN</td>\n",
       "      <td>NaN</td>\n",
       "      <td>NaN</td>\n",
       "      <td>NaN</td>\n",
       "    </tr>\n",
       "    <tr>\n",
       "      <th>2</th>\n",
       "      <td>2016-12-30</td>\n",
       "      <td>NaT</td>\n",
       "      <td>complete</td>\n",
       "      <td>14</td>\n",
       "      <td>NaN</td>\n",
       "      <td>NaN</td>\n",
       "      <td>NaN</td>\n",
       "      <td>NaN</td>\n",
       "      <td>NaN</td>\n",
       "      <td>NaN</td>\n",
       "    </tr>\n",
       "    <tr>\n",
       "      <th>3</th>\n",
       "      <td>2016-12-29</td>\n",
       "      <td>NaT</td>\n",
       "      <td>complete</td>\n",
       "      <td>14</td>\n",
       "      <td>NaN</td>\n",
       "      <td>NaN</td>\n",
       "      <td>NaN</td>\n",
       "      <td>NaN</td>\n",
       "      <td>NaN</td>\n",
       "      <td>NaN</td>\n",
       "    </tr>\n",
       "    <tr>\n",
       "      <th>4</th>\n",
       "      <td>2016-12-28</td>\n",
       "      <td>2016-12-29</td>\n",
       "      <td>returned</td>\n",
       "      <td>1</td>\n",
       "      <td>NaN</td>\n",
       "      <td>NaN</td>\n",
       "      <td>NaN</td>\n",
       "      <td>NaN</td>\n",
       "      <td>NaN</td>\n",
       "      <td>NaN</td>\n",
       "    </tr>\n",
       "  </tbody>\n",
       "</table>\n",
       "</div>"
      ],
      "text/plain": [
       "  dateordered datereturned orderstatus  orders  Unnamed: 4  Unnamed: 5  \\\n",
       "0  2016-12-31   2017-01-24    returned       1         NaN         NaN   \n",
       "1  2016-12-31          NaT    complete       8         NaN         NaN   \n",
       "2  2016-12-30          NaT    complete      14         NaN         NaN   \n",
       "3  2016-12-29          NaT    complete      14         NaN         NaN   \n",
       "4  2016-12-28   2016-12-29    returned       1         NaN         NaN   \n",
       "\n",
       "   Unnamed: 6  Unnamed: 7  Unnamed: 8  Unnamed: 9  \n",
       "0         NaN         NaN         NaN         NaN  \n",
       "1         NaN         NaN         NaN         NaN  \n",
       "2         NaN         NaN         NaN         NaN  \n",
       "3         NaN         NaN         NaN         NaN  \n",
       "4         NaN         NaN         NaN         NaN  "
      ]
     },
     "execution_count": 1,
     "metadata": {},
     "output_type": "execute_result"
    }
   ],
   "source": [
    "import pandas as pd\n",
    "import numpy as np\n",
    "import datetime\n",
    "import matplotlib.pyplot as plt\n",
    "import matplotlib\n",
    "pd.options.display.mpl_style = 'default'\n",
    "matplotlib.style.use('ggplot')\n",
    "%matplotlib inline \n",
    "\n",
    "\n",
    "df = pd.read_csv('casper_take_home.csv', parse_dates=True)\n",
    "\n",
    "for col in df.columns:\n",
    "    if df[col].dtype == 'object':\n",
    "        try:\n",
    "            df[col] = pd.to_datetime(df[col])\n",
    "        except ValueError:\n",
    "            pass\n",
    "\n",
    "print \"Size of DF is {}\\n\".format(len(df.index))\n",
    "print df.dtypes\n",
    "df.head()"
   ]
  },
  {
   "cell_type": "code",
   "execution_count": null,
   "metadata": {
    "collapsed": true
   },
   "outputs": [],
   "source": []
  },
  {
   "cell_type": "code",
   "execution_count": 2,
   "metadata": {
    "collapsed": false
   },
   "outputs": [
    {
     "data": {
      "text/html": [
       "<div>\n",
       "<table border=\"1\" class=\"dataframe\">\n",
       "  <thead>\n",
       "    <tr style=\"text-align: right;\">\n",
       "      <th></th>\n",
       "      <th>dateordered</th>\n",
       "      <th>datereturned</th>\n",
       "      <th>orderstatus</th>\n",
       "      <th>orders</th>\n",
       "    </tr>\n",
       "  </thead>\n",
       "  <tbody>\n",
       "    <tr>\n",
       "      <th>0</th>\n",
       "      <td>2016-12-31</td>\n",
       "      <td>2017-01-24</td>\n",
       "      <td>returned</td>\n",
       "      <td>1</td>\n",
       "    </tr>\n",
       "    <tr>\n",
       "      <th>1</th>\n",
       "      <td>2016-12-31</td>\n",
       "      <td>NaT</td>\n",
       "      <td>complete</td>\n",
       "      <td>8</td>\n",
       "    </tr>\n",
       "    <tr>\n",
       "      <th>2</th>\n",
       "      <td>2016-12-30</td>\n",
       "      <td>NaT</td>\n",
       "      <td>complete</td>\n",
       "      <td>14</td>\n",
       "    </tr>\n",
       "    <tr>\n",
       "      <th>3</th>\n",
       "      <td>2016-12-29</td>\n",
       "      <td>NaT</td>\n",
       "      <td>complete</td>\n",
       "      <td>14</td>\n",
       "    </tr>\n",
       "    <tr>\n",
       "      <th>4</th>\n",
       "      <td>2016-12-28</td>\n",
       "      <td>2016-12-29</td>\n",
       "      <td>returned</td>\n",
       "      <td>1</td>\n",
       "    </tr>\n",
       "  </tbody>\n",
       "</table>\n",
       "</div>"
      ],
      "text/plain": [
       "  dateordered datereturned orderstatus  orders\n",
       "0  2016-12-31   2017-01-24    returned       1\n",
       "1  2016-12-31          NaT    complete       8\n",
       "2  2016-12-30          NaT    complete      14\n",
       "3  2016-12-29          NaT    complete      14\n",
       "4  2016-12-28   2016-12-29    returned       1"
      ]
     },
     "execution_count": 2,
     "metadata": {},
     "output_type": "execute_result"
    }
   ],
   "source": [
    "#removing null columns\n",
    "df = df.dropna(axis=1, how='all')\n",
    "df.head()"
   ]
  },
  {
   "cell_type": "code",
   "execution_count": null,
   "metadata": {
    "collapsed": true
   },
   "outputs": [],
   "source": []
  },
  {
   "cell_type": "code",
   "execution_count": 3,
   "metadata": {
    "collapsed": false
   },
   "outputs": [
    {
     "data": {
      "text/html": [
       "<div>\n",
       "<table border=\"1\" class=\"dataframe\">\n",
       "  <thead>\n",
       "    <tr style=\"text-align: right;\">\n",
       "      <th></th>\n",
       "      <th></th>\n",
       "      <th>orders</th>\n",
       "    </tr>\n",
       "  </thead>\n",
       "  <tbody>\n",
       "    <tr>\n",
       "      <th rowspan=\"5\" valign=\"top\">2016</th>\n",
       "      <th>8</th>\n",
       "      <td>149</td>\n",
       "    </tr>\n",
       "    <tr>\n",
       "      <th>9</th>\n",
       "      <td>143</td>\n",
       "    </tr>\n",
       "    <tr>\n",
       "      <th>10</th>\n",
       "      <td>180</td>\n",
       "    </tr>\n",
       "    <tr>\n",
       "      <th>11</th>\n",
       "      <td>226</td>\n",
       "    </tr>\n",
       "    <tr>\n",
       "      <th>12</th>\n",
       "      <td>395</td>\n",
       "    </tr>\n",
       "  </tbody>\n",
       "</table>\n",
       "</div>"
      ],
      "text/plain": [
       "         orders\n",
       "2016 8      149\n",
       "     9      143\n",
       "     10     180\n",
       "     11     226\n",
       "     12     395"
      ]
     },
     "execution_count": 3,
     "metadata": {},
     "output_type": "execute_result"
    }
   ],
   "source": [
    "\n",
    "df_orders = df.set_index('dateordered')\n",
    "df_orders = df_orders.groupby([(df_orders.index.year),(df_orders.index.month)]).sum()\n",
    "df_orders.head()\n"
   ]
  },
  {
   "cell_type": "code",
   "execution_count": 4,
   "metadata": {
    "collapsed": false,
    "scrolled": false
   },
   "outputs": [
    {
     "data": {
      "text/plain": [
       "[<matplotlib.lines.Line2D at 0x10dd4e490>]"
      ]
     },
     "execution_count": 4,
     "metadata": {},
     "output_type": "execute_result"
    },
    {
     "data": {
      "image/png": "[encoded data removed]",
      "text/plain": [
       "<matplotlib.figure.Figure at 0x106eba810>"
      ]
     },
     "metadata": {},
     "output_type": "display_data"
    }
   ],
   "source": [
    "\n",
    "plt.xticks(df_orders.index.get_level_values(1))\n",
    "plt.ylabel('orders')\n",
    "plt.xlabel('month')\n",
    "plt.title('Monthly Order Volume', y=1.1)\n",
    "plt.plot(df_orders.index.get_level_values(1), df_orders['orders'])\n"
   ]
  },
  {
   "cell_type": "markdown",
   "metadata": {},
   "source": [
    "Order volume: up and to the right! Without knowing anything about seasonality of mattresses or SKU types or anything else, looking good. Mostly looking at this for context."
   ]
  },
  {
   "cell_type": "code",
   "execution_count": 5,
   "metadata": {
    "collapsed": false,
    "scrolled": true
   },
   "outputs": [
    {
     "data": {
      "text/html": [
       "<div>\n",
       "<table border=\"1\" class=\"dataframe\">\n",
       "  <thead>\n",
       "    <tr style=\"text-align: right;\">\n",
       "      <th></th>\n",
       "      <th></th>\n",
       "      <th>orders</th>\n",
       "    </tr>\n",
       "  </thead>\n",
       "  <tbody>\n",
       "    <tr>\n",
       "      <th rowspan=\"5\" valign=\"top\">2016</th>\n",
       "      <th>8</th>\n",
       "      <td>10</td>\n",
       "    </tr>\n",
       "    <tr>\n",
       "      <th>9</th>\n",
       "      <td>9</td>\n",
       "    </tr>\n",
       "    <tr>\n",
       "      <th>10</th>\n",
       "      <td>10</td>\n",
       "    </tr>\n",
       "    <tr>\n",
       "      <th>11</th>\n",
       "      <td>12</td>\n",
       "    </tr>\n",
       "    <tr>\n",
       "      <th>12</th>\n",
       "      <td>19</td>\n",
       "    </tr>\n",
       "  </tbody>\n",
       "</table>\n",
       "</div>"
      ],
      "text/plain": [
       "         orders\n",
       "2016 8       10\n",
       "     9        9\n",
       "     10      10\n",
       "     11      12\n",
       "     12      19"
      ]
     },
     "execution_count": 5,
     "metadata": {},
     "output_type": "execute_result"
    }
   ],
   "source": [
    "df_returns = df[df['orderstatus']=='returned'].set_index('dateordered')        \n",
    "df_returns = df_returns.groupby([(df_returns.index.year),(df_returns.index.month)]).sum()\n",
    "df_returns.head(10)"
   ]
  },
  {
   "cell_type": "code",
   "execution_count": 6,
   "metadata": {
    "collapsed": false
   },
   "outputs": [
    {
     "data": {
      "text/plain": [
       "[<matplotlib.lines.Line2D at 0x10dec7410>]"
      ]
     },
     "execution_count": 6,
     "metadata": {},
     "output_type": "execute_result"
    },
    {
     "data": {
      "image/png": "[encoded data removed]",
      "text/plain": [
       "<matplotlib.figure.Figure at 0x106ec95d0>"
      ]
     },
     "metadata": {},
     "output_type": "display_data"
    }
   ],
   "source": [
    "\n",
    "plt.xticks(df_returns.index.get_level_values(1))\n",
    "plt.ylabel('returned orders')\n",
    "plt.xlabel('month order placed')\n",
    "plt.title('Monthly Return Volume', y=1.1)\n",
    "plt.plot(df_returns.index.get_level_values(1), df_returns['orders'])\n"
   ]
  },
  {
   "cell_type": "markdown",
   "metadata": {},
   "source": [
    "Uh oh, returns are also up and to the right! Granted (wihtout knowing much else about the implications of returns), still at a smallish volume. Additionally, we should probably ***control for volume increasing here*** -- if returns are increasing at a rate consistent with growth, that should be alright."
   ]
  },
  {
   "cell_type": "code",
   "execution_count": 7,
   "metadata": {
    "collapsed": false,
    "scrolled": true
   },
   "outputs": [
    {
     "data": {
      "text/html": [
       "<div>\n",
       "<table border=\"1\" class=\"dataframe\">\n",
       "  <thead>\n",
       "    <tr style=\"text-align: right;\">\n",
       "      <th></th>\n",
       "      <th></th>\n",
       "      <th>orders_x</th>\n",
       "      <th>orders_y</th>\n",
       "      <th>returns_per_order</th>\n",
       "    </tr>\n",
       "    <tr>\n",
       "      <th>year</th>\n",
       "      <th>month</th>\n",
       "      <th></th>\n",
       "      <th></th>\n",
       "      <th></th>\n",
       "    </tr>\n",
       "  </thead>\n",
       "  <tbody>\n",
       "    <tr>\n",
       "      <th rowspan=\"5\" valign=\"top\">2016</th>\n",
       "      <th>8</th>\n",
       "      <td>149</td>\n",
       "      <td>10</td>\n",
       "      <td>0.067114</td>\n",
       "    </tr>\n",
       "    <tr>\n",
       "      <th>9</th>\n",
       "      <td>143</td>\n",
       "      <td>9</td>\n",
       "      <td>0.062937</td>\n",
       "    </tr>\n",
       "    <tr>\n",
       "      <th>10</th>\n",
       "      <td>180</td>\n",
       "      <td>10</td>\n",
       "      <td>0.055556</td>\n",
       "    </tr>\n",
       "    <tr>\n",
       "      <th>11</th>\n",
       "      <td>226</td>\n",
       "      <td>12</td>\n",
       "      <td>0.053097</td>\n",
       "    </tr>\n",
       "    <tr>\n",
       "      <th>12</th>\n",
       "      <td>395</td>\n",
       "      <td>19</td>\n",
       "      <td>0.048101</td>\n",
       "    </tr>\n",
       "  </tbody>\n",
       "</table>\n",
       "</div>"
      ],
      "text/plain": [
       "            orders_x  orders_y  returns_per_order\n",
       "year month                                       \n",
       "2016 8           149        10           0.067114\n",
       "     9           143         9           0.062937\n",
       "     10          180        10           0.055556\n",
       "     11          226        12           0.053097\n",
       "     12          395        19           0.048101"
      ]
     },
     "execution_count": 7,
     "metadata": {},
     "output_type": "execute_result"
    }
   ],
   "source": [
    "df_merged = df_orders.merge(df_returns, left_index=True, right_index=True, how='outer')\n",
    "\n",
    "df_merged.index.levels[0].name = 'year'\n",
    "df_merged.index.levels[1].name = 'month'\n",
    "\n",
    "df_merged['returns_per_order'] = 1.0*df_merged.orders_y /df_merged.orders_x\n",
    "df_merged.head(10)"
   ]
  },
  {
   "cell_type": "code",
   "execution_count": 8,
   "metadata": {
    "collapsed": false,
    "scrolled": true
   },
   "outputs": [
    {
     "data": {
      "text/plain": [
       "[<matplotlib.lines.Line2D at 0x10ddcdf50>]"
      ]
     },
     "execution_count": 8,
     "metadata": {},
     "output_type": "execute_result"
    },
    {
     "data": {
      "image/png": "[encoded data removed]",
      "text/plain": [
       "<matplotlib.figure.Figure at 0x10dee5ed0>"
      ]
     },
     "metadata": {},
     "output_type": "display_data"
    }
   ],
   "source": [
    "plt.xticks(df_merged.index.get_level_values(1))\n",
    "plt.ylabel('returns per order')\n",
    "plt.xlabel('month order placed')\n",
    "plt.title('Monthly Returns per Order', y=1.1)\n",
    "plt.plot(df_merged.index.get_level_values(1), df_merged['returns_per_order'])\n"
   ]
  },
  {
   "cell_type": "markdown",
   "metadata": {},
   "source": [
    "Hurray! Assuming that all the returns that are going to occur have occurred, it looks like our rate of returns when controlling for order growth is decreasing.\n",
    "\n",
    "But wait... we should probably consider that ~all the returns that are going to happen have not happened yet~. After all, it's only January 28th, 2017, and we have order data up through the end of last month. I have a hunch people wait longer than a month to return their mattresses. Let's take a look at what's happened historically."
   ]
  },
  {
   "cell_type": "code",
   "execution_count": 9,
   "metadata": {
    "collapsed": false,
    "scrolled": true
   },
   "outputs": [
    {
     "name": "stdout",
     "output_type": "stream",
     "text": [
      "Mean is 40 days 20:00:00\n",
      "Median is 28 days 12:00:00\n",
      "Min is 0 days 00:00:00\n",
      "Max is 122 days 00:00:00\n",
      "Total number of returns is 60\n"
     ]
    },
    {
     "data": {
      "image/png": "[encoded data removed]",
      "text/plain": [
       "<matplotlib.figure.Figure at 0x10dedadd0>"
      ]
     },
     "metadata": {},
     "output_type": "display_data"
    }
   ],
   "source": [
    "df['time_till_return'] = df.datereturned - df.dateordered\n",
    "df['time_till_return_days'] = df.time_till_return/ pd.Timedelta(days=1)\n",
    "print \"Mean is {}\".format(df['time_till_return'].mean())\n",
    "print \"Median is {}\".format(df['time_till_return'].median())\n",
    "print \"Min is {}\".format(df['time_till_return'].min())\n",
    "print \"Max is {}\".format(df['time_till_return'].max())\n",
    "print \"Total number of returns is {}\".format(df['time_till_return'].count())\n",
    "\n",
    "plt.hist(df.time_till_return_days.dropna(), bins=10)\n",
    "plt.xlabel('Time till Return (days)')\n",
    "plt.ylabel('# of Returns')\n",
    "plt.title('Frequency of Returns by Date Ordered --> Date Returned', y=1.1);\n"
   ]
  },
  {
   "cell_type": "code",
   "execution_count": 10,
   "metadata": {
    "collapsed": false
   },
   "outputs": [
    {
     "data": {
      "image/png": "[encoded data removed]",
      "text/plain": [
       "<matplotlib.figure.Figure at 0x10dfa23d0>"
      ]
     },
     "metadata": {},
     "output_type": "display_data"
    }
   ],
   "source": [
    "plt.hist(df.time_till_return_days.dropna(), bins=10, cumulative=True, normed=True)\n",
    "plt.xlabel('Time till Return (days)')\n",
    "plt.ylabel('# of Returns')\n",
    "plt.title('Cumulative Distribution of Returns by Date Ordered--> Date Returned', y=1.1);"
   ]
  },
  {
   "cell_type": "code",
   "execution_count": 11,
   "metadata": {
    "collapsed": false
   },
   "outputs": [
    {
     "data": {
      "image/png": "[encoded data removed]",
      "text/plain": [
       "<matplotlib.figure.Figure at 0x10df5cb50>"
      ]
     },
     "metadata": {},
     "output_type": "display_data"
    }
   ],
   "source": [
    "#\"monthly\" metrics, as in the prompt. also makes things simpler. \n",
    "\n",
    "(n, bins, patches)= plt.hist(df.time_till_return_days.dropna(), bins =range(0, int(df.time_till_return.max()/pd.Timedelta(days=1)), 30), cumulative=True, normed=True)\n",
    "plt.xlabel('Time till Return (days)')\n",
    "plt.ylabel('# of Returns')\n",
    "plt.title('Cumulative Distribution of Returns by Date Ordered--> Date Returned v2', y=1.1);\n",
    "\n"
   ]
  },
  {
   "cell_type": "code",
   "execution_count": 12,
   "metadata": {
    "collapsed": false
   },
   "outputs": [
    {
     "data": {
      "text/plain": [
       "(array([ 0.52542373,  0.72881356,  0.89830508,  1.        ]),\n",
       " array([  0,  30,  60,  90, 120]))"
      ]
     },
     "execution_count": 12,
     "metadata": {},
     "output_type": "execute_result"
    }
   ],
   "source": [
    "n, bins"
   ]
  },
  {
   "cell_type": "markdown",
   "metadata": {},
   "source": [
    "Historically, it looks like \n",
    "- ~50% of the returns occur in the first 30 days\n",
    "- ~70% of returns occur within 60 days\n",
    "- ~90% of returns occur within 90 days\n",
    "\n",
    "and, based on the window of data that I have (and no other information on the return policy), \n",
    "- pretty much all mattresses that will be returned are returned within 120 days, ~ 3 months.\n",
    "\n",
    "Can we apply this logic to get at an estimated return rate for more recent months?"
   ]
  },
  {
   "cell_type": "code",
   "execution_count": 13,
   "metadata": {
    "collapsed": false,
    "scrolled": true
   },
   "outputs": [],
   "source": [
    "import datetime\n",
    "from datetime import timedelta\n",
    "#todays_date = today() <-- if we want to make this reproducible\n",
    "todays_date = datetime.date(2017,1,28)\n"
   ]
  },
  {
   "cell_type": "code",
   "execution_count": 14,
   "metadata": {
    "collapsed": false
   },
   "outputs": [],
   "source": [
    "month_from_bins = []\n",
    "year_from_bins = []\n",
    "for i in range(len(bins)):\n",
    "    month_from_bins.append((todays_date - datetime.timedelta(days=bins[i])).month)\n",
    "    year_from_bins.append((todays_date - datetime.timedelta(days=bins[i])).year)\n"
   ]
  },
  {
   "cell_type": "code",
   "execution_count": 15,
   "metadata": {
    "collapsed": false
   },
   "outputs": [],
   "source": [
    "\n",
    "month_from_bins = month_from_bins[1:]\n",
    "year_from_bins = year_from_bins[1:]\n",
    "\n",
    "df_cdf =pd.DataFrame({'year': year_from_bins, 'month': month_from_bins, 'estimated_percent_returns_transpired': n})\n",
    "df_cdf = df_cdf.set_index(['year', 'month'])  \n",
    "\n"
   ]
  },
  {
   "cell_type": "code",
   "execution_count": 16,
   "metadata": {
    "collapsed": false
   },
   "outputs": [
    {
     "data": {
      "text/html": [
       "<div>\n",
       "<table border=\"1\" class=\"dataframe\">\n",
       "  <thead>\n",
       "    <tr style=\"text-align: right;\">\n",
       "      <th></th>\n",
       "      <th></th>\n",
       "      <th>orders_x</th>\n",
       "      <th>orders_y</th>\n",
       "      <th>returns_per_order</th>\n",
       "      <th>estimated_percent_returns_transpired</th>\n",
       "    </tr>\n",
       "    <tr>\n",
       "      <th>year</th>\n",
       "      <th>month</th>\n",
       "      <th></th>\n",
       "      <th></th>\n",
       "      <th></th>\n",
       "      <th></th>\n",
       "    </tr>\n",
       "  </thead>\n",
       "  <tbody>\n",
       "    <tr>\n",
       "      <th rowspan=\"5\" valign=\"top\">2016</th>\n",
       "      <th>8</th>\n",
       "      <td>149</td>\n",
       "      <td>10</td>\n",
       "      <td>0.067114</td>\n",
       "      <td>NaN</td>\n",
       "    </tr>\n",
       "    <tr>\n",
       "      <th>9</th>\n",
       "      <td>143</td>\n",
       "      <td>9</td>\n",
       "      <td>0.062937</td>\n",
       "      <td>1.000000</td>\n",
       "    </tr>\n",
       "    <tr>\n",
       "      <th>10</th>\n",
       "      <td>180</td>\n",
       "      <td>10</td>\n",
       "      <td>0.055556</td>\n",
       "      <td>0.898305</td>\n",
       "    </tr>\n",
       "    <tr>\n",
       "      <th>11</th>\n",
       "      <td>226</td>\n",
       "      <td>12</td>\n",
       "      <td>0.053097</td>\n",
       "      <td>0.728814</td>\n",
       "    </tr>\n",
       "    <tr>\n",
       "      <th>12</th>\n",
       "      <td>395</td>\n",
       "      <td>19</td>\n",
       "      <td>0.048101</td>\n",
       "      <td>0.525424</td>\n",
       "    </tr>\n",
       "  </tbody>\n",
       "</table>\n",
       "</div>"
      ],
      "text/plain": [
       "            orders_x  orders_y  returns_per_order  \\\n",
       "year month                                          \n",
       "2016 8           149        10           0.067114   \n",
       "     9           143         9           0.062937   \n",
       "     10          180        10           0.055556   \n",
       "     11          226        12           0.053097   \n",
       "     12          395        19           0.048101   \n",
       "\n",
       "            estimated_percent_returns_transpired  \n",
       "year month                                        \n",
       "2016 8                                       NaN  \n",
       "     9                                  1.000000  \n",
       "     10                                 0.898305  \n",
       "     11                                 0.728814  \n",
       "     12                                 0.525424  "
      ]
     },
     "execution_count": 16,
     "metadata": {},
     "output_type": "execute_result"
    }
   ],
   "source": [
    "\n",
    "df_merged = df_merged.merge(df_cdf, how='left', left_index = True, right_index=True)\n",
    "df_merged.head()"
   ]
  },
  {
   "cell_type": "code",
   "execution_count": 17,
   "metadata": {
    "collapsed": false
   },
   "outputs": [
    {
     "data": {
      "text/html": [
       "<div>\n",
       "<table border=\"1\" class=\"dataframe\">\n",
       "  <thead>\n",
       "    <tr style=\"text-align: right;\">\n",
       "      <th></th>\n",
       "      <th></th>\n",
       "      <th>orders_x</th>\n",
       "      <th>orders_y</th>\n",
       "      <th>returns_per_order</th>\n",
       "      <th>estimated_percent_returns_transpired</th>\n",
       "      <th>estimated_eventual_returns</th>\n",
       "      <th>adjusted_returns_per_order</th>\n",
       "    </tr>\n",
       "    <tr>\n",
       "      <th>year</th>\n",
       "      <th>month</th>\n",
       "      <th></th>\n",
       "      <th></th>\n",
       "      <th></th>\n",
       "      <th></th>\n",
       "      <th></th>\n",
       "      <th></th>\n",
       "    </tr>\n",
       "  </thead>\n",
       "  <tbody>\n",
       "    <tr>\n",
       "      <th rowspan=\"5\" valign=\"top\">2016</th>\n",
       "      <th>8</th>\n",
       "      <td>149</td>\n",
       "      <td>10</td>\n",
       "      <td>0.067114</td>\n",
       "      <td>NaN</td>\n",
       "      <td>10.000000</td>\n",
       "      <td>0.067114</td>\n",
       "    </tr>\n",
       "    <tr>\n",
       "      <th>9</th>\n",
       "      <td>143</td>\n",
       "      <td>9</td>\n",
       "      <td>0.062937</td>\n",
       "      <td>1.000000</td>\n",
       "      <td>9.000000</td>\n",
       "      <td>0.062937</td>\n",
       "    </tr>\n",
       "    <tr>\n",
       "      <th>10</th>\n",
       "      <td>180</td>\n",
       "      <td>10</td>\n",
       "      <td>0.055556</td>\n",
       "      <td>0.898305</td>\n",
       "      <td>11.132075</td>\n",
       "      <td>0.061845</td>\n",
       "    </tr>\n",
       "    <tr>\n",
       "      <th>11</th>\n",
       "      <td>226</td>\n",
       "      <td>12</td>\n",
       "      <td>0.053097</td>\n",
       "      <td>0.728814</td>\n",
       "      <td>16.465116</td>\n",
       "      <td>0.072854</td>\n",
       "    </tr>\n",
       "    <tr>\n",
       "      <th>12</th>\n",
       "      <td>395</td>\n",
       "      <td>19</td>\n",
       "      <td>0.048101</td>\n",
       "      <td>0.525424</td>\n",
       "      <td>36.161290</td>\n",
       "      <td>0.091548</td>\n",
       "    </tr>\n",
       "  </tbody>\n",
       "</table>\n",
       "</div>"
      ],
      "text/plain": [
       "            orders_x  orders_y  returns_per_order  \\\n",
       "year month                                          \n",
       "2016 8           149        10           0.067114   \n",
       "     9           143         9           0.062937   \n",
       "     10          180        10           0.055556   \n",
       "     11          226        12           0.053097   \n",
       "     12          395        19           0.048101   \n",
       "\n",
       "            estimated_percent_returns_transpired  estimated_eventual_returns  \\\n",
       "year month                                                                     \n",
       "2016 8                                       NaN                   10.000000   \n",
       "     9                                  1.000000                    9.000000   \n",
       "     10                                 0.898305                   11.132075   \n",
       "     11                                 0.728814                   16.465116   \n",
       "     12                                 0.525424                   36.161290   \n",
       "\n",
       "            adjusted_returns_per_order  \n",
       "year month                              \n",
       "2016 8                        0.067114  \n",
       "     9                        0.062937  \n",
       "     10                       0.061845  \n",
       "     11                       0.072854  \n",
       "     12                       0.091548  "
      ]
     },
     "execution_count": 17,
     "metadata": {},
     "output_type": "execute_result"
    }
   ],
   "source": [
    "df_merged['estimated_eventual_returns'] = (df_merged.orders_y / df_merged.estimated_percent_returns_transpired).fillna(df_merged.orders_y)\n",
    "df_merged['adjusted_returns_per_order'] = df_merged.estimated_eventual_returns / df_merged.orders_x\n",
    "df_merged.head()"
   ]
  },
  {
   "cell_type": "code",
   "execution_count": 18,
   "metadata": {
    "collapsed": false
   },
   "outputs": [
    {
     "data": {
      "text/plain": [
       "[<matplotlib.lines.Line2D at 0x10e795b50>]"
      ]
     },
     "execution_count": 18,
     "metadata": {},
     "output_type": "execute_result"
    },
    {
     "data": {
      "image/png": "[encoded data removed]",
      "text/plain": [
       "<matplotlib.figure.Figure at 0x10e54d710>"
      ]
     },
     "metadata": {},
     "output_type": "display_data"
    }
   ],
   "source": [
    "plt.xticks(df_merged.index.get_level_values(1))\n",
    "plt.ylabel('returns per order adjusted ')\n",
    "plt.xlabel('month order placed')\n",
    "plt.title('Returns Per Order Adjusted For Time Transpired', y=1.10)\n",
    "plt.plot(df_merged.index.get_level_values(1), df_merged['adjusted_returns_per_order'])"
   ]
  },
  {
   "cell_type": "markdown",
   "metadata": {},
   "source": [
    "Assuming the last several months of order data are representative of ordering going forward (particularly, the timetable on which returns happen) then, ***it looks like there has been a recent uptick in returns.*** \n",
    "\n",
    "Conservatively, it looks like returns in December increased by ~50% from October. We should probably look into this \n",
    "\n",
    "Things that could be messing with my assumptions:\n",
    "- Seasonality. Maybe something about time-of-year affects the way people purchase mattresses. Back to school? It would be nice to have data from this time of year last year as a control\n",
    "- Recent product launches or adjustments -- did we make beds firmer in this market?\n",
    "- Externalities -- has there been a bed bugs epidemic? Recession? New market entrant? Are people using the return policy to shop around?\n",
    "\n",
    "Either way, based on the parameters given in this exercise, I would recommend looking further into whatever explanatory data we may have around returns (e.g. customer surveys, order flow data, et al)"
   ]
  },
  {
   "cell_type": "markdown",
   "metadata": {},
   "source": [
    "# Exercise 2: Write SQL\n",
    "\n",
    "I'm just going to include some SQL snippets in strings to answer this:\n",
    "\n"
   ]
  },
  {
   "cell_type": "code",
   "execution_count": 19,
   "metadata": {
    "collapsed": true
   },
   "outputs": [],
   "source": [
    "simple_answer = \"\"\"\n",
    "SELECT \n",
    "dateordered::date -- looks like it's just a date, but in case this field comes as a timestamp\n",
    ", SUM(orders) AS orders\n",
    "FROM casper_orders\n",
    "WHERE orderstatus = 'complete'\n",
    "GROUP BY 1;\n",
    "\"\"\"\n",
    "\n",
    "answer_if_you_want_to_exclude_returns = \"\"\"\n",
    "\n",
    "WITH returns AS( --PSQL, can just as easily make this a subquery if you have another database\n",
    "SELECT \n",
    "dateordered::date\n",
    ", SUM(orders) AS orders\n",
    "FROM casper_orders\n",
    "WHERE orderstatus = 'returned'\n",
    "GROUP BY 1\n",
    ")\n",
    "\n",
    "SELECT\n",
    "simple_answer.date_ordered\n",
    ", simple_answer.orders - returns.orders\n",
    "FROM \n",
    "({}) AS simple_answer\n",
    "LEFT JOIN \n",
    "returns on returns.date_ordered = simple_answer.date_ordered;\n",
    "\"\"\".format(simple_answer)\n",
    "\n"
   ]
  },
  {
   "cell_type": "code",
   "execution_count": null,
   "metadata": {
    "collapsed": true
   },
   "outputs": [],
   "source": []
  }
 ],
 "metadata": {
  "kernelspec": {
   "display_name": "Python 2",
   "language": "python",
   "name": "python2"
  },
  "language_info": {
   "codemirror_mode": {
    "name": "ipython",
    "version": 2
   },
   "file_extension": ".py",
   "mimetype": "text/x-python",
   "name": "python",
   "nbconvert_exporter": "python",
   "pygments_lexer": "ipython2",
   "version": "2.7.11"
  }
 },
 "nbformat": 4,
 "nbformat_minor": 2
}
